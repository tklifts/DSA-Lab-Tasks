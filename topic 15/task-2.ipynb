{
 "cells": [
  {
   "cell_type": "code",
   "execution_count": null,
   "id": "d164c19c",
   "metadata": {},
   "outputs": [],
   "source": [
    "def permute(string):\n",
    "    def backtrack(start, end, result):\n",
    "        if start == end:\n",
    "            result.append(\"\".join(string))\n",
    "            return\n",
    "        for i in range(start, end):\n",
    "            string[start], string[i] = string[i], string[start]\n",
    "            backtrack(start + 1, end, result)\n",
    "            string[start], string[i] = string[i], string[start]\n",
    "\n",
    "    string = list(string)\n",
    "    result = []\n",
    "    backtrack(0, len(string), result)\n",
    "    return result\n",
    "\n",
    "if __name__ == \"__main__\":\n",
    "    string = \"ABC\"\n",
    "    permutations = permute(string)\n",
    "    print(permutations)"
   ]
  },
  {
   "cell_type": "markdown",
   "id": "cdb4c48c",
   "metadata": {},
   "source": [
    "Backtracking:\n",
    "The function swaps characters to generate all possible permutations.\n",
    "After exploring a branch, it backtracks by swapping the characters back to their original positions.\n",
    "\n",
    "Time Complexity:\n",
    "O(N!), where N is the length of the string, as there are N! permutations.\n",
    "Example Output: For input \"ABC\", the output will be:\n",
    "\n",
    "Use Case Examples:\n",
    "Password Generation: Generate all possible combinations of characters for secure passwords.\n",
    "Anagrams: Find all anagrams of a given word."
   ]
  },
  {
   "cell_type": "markdown",
   "id": "869f6d99",
   "metadata": {},
   "source": []
  }
 ],
 "metadata": {
  "language_info": {
   "name": "python"
  }
 },
 "nbformat": 4,
 "nbformat_minor": 5
}
