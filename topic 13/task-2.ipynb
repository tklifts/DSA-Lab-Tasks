{
 "cells": [
  {
   "cell_type": "code",
   "execution_count": 1,
   "id": "d1f2588a",
   "metadata": {},
   "outputs": [
    {
     "name": "stdout",
     "output_type": "stream",
     "text": [
      "Huffman Codes: {'l': '00', 'e': '01', 'y': '100', 'r': '1010', 'g': '1011', 'd': '1100', ' ': '1101', 'h': '1110', 'o': '1111'}\n",
      "Encoded Text: 1110010000111111011011101001011100100\n",
      "Decoded Text: hello greedy\n",
      "Original size: 96 bits\n",
      "Compressed size: 37 bits\n"
     ]
    }
   ],
   "source": [
    "import heapq\n",
    "from collections import defaultdict, Counter\n",
    "\n",
    "class HuffmanNode:\n",
    "    def __init__(self, char, freq):\n",
    "        self.char = char\n",
    "        self.freq = freq\n",
    "        self.left = None\n",
    "        self.right = None\n",
    "\n",
    "    def __lt__(self, other):\n",
    "        return self.freq < other.freq\n",
    "\n",
    "def build_huffman_tree(frequencies):\n",
    "    heap = [HuffmanNode(char, freq) for char, freq in frequencies.items()]\n",
    "    heapq.heapify(heap)\n",
    "\n",
    "    while len(heap) > 1:\n",
    "        left = heapq.heappop(heap)\n",
    "        right = heapq.heappop(heap)\n",
    "\n",
    "        merged = HuffmanNode(None, left.freq + right.freq)\n",
    "        merged.left = left\n",
    "        merged.right = right\n",
    "\n",
    "        heapq.heappush(heap, merged)\n",
    "\n",
    "    return heap[0]\n",
    "\n",
    "def generate_huffman_codes(root, current_code=\"\", codes=None):\n",
    "    if codes is None:\n",
    "        codes = {}\n",
    "\n",
    "    if root is not None:\n",
    "        if root.char is not None:\n",
    "            codes[root.char] = current_code\n",
    "        generate_huffman_codes(root.left, current_code + \"0\", codes)\n",
    "        generate_huffman_codes(root.right, current_code + \"1\", codes)\n",
    "\n",
    "    return codes\n",
    "\n",
    "def huffman_encoding(text):\n",
    "    frequencies = Counter(text)\n",
    "\n",
    "    root = build_huffman_tree(frequencies)\n",
    "\n",
    "    huffman_codes = generate_huffman_codes(root)\n",
    "\n",
    "    encoded_text = \"\".join(huffman_codes[char] for char in text)\n",
    "\n",
    "    return huffman_codes, encoded_text\n",
    "\n",
    "def huffman_decoding(encoded_text, huffman_codes):\n",
    "    reverse_codes = {code: char for char, code in huffman_codes.items()}\n",
    "\n",
    "    decoded_text = \"\"\n",
    "    current_code = \"\"\n",
    "    for bit in encoded_text:\n",
    "        current_code += bit\n",
    "        if current_code in reverse_codes:\n",
    "            decoded_text += reverse_codes[current_code]\n",
    "            current_code = \"\"\n",
    "\n",
    "    return decoded_text\n",
    "\n",
    "\n",
    "if __name__ == \"__main__\":\n",
    "    text = \"hello greedy\"\n",
    "    huffman_codes, encoded_text = huffman_encoding(text)\n",
    "\n",
    "    print(\"Huffman Codes:\", huffman_codes)\n",
    "    print(\"Encoded Text:\", encoded_text)\n",
    "\n",
    "    decoded_text = huffman_decoding(encoded_text, huffman_codes)\n",
    "    print(\"Decoded Text:\", decoded_text)\n",
    "\n",
    "    \n",
    "    original_size = len(text) * 8  \n",
    "    compressed_size = len(encoded_text)\n",
    "    print(f\"Original size: {original_size} bits\")\n",
    "    print(f\"Compressed size: {compressed_size} bits\")"
   ]
  },
  {
   "cell_type": "markdown",
   "id": "9d8d3299",
   "metadata": {},
   "source": [
    "<b>Why Greedy?</b>: Huffman Coding uses a greedy approach by always merging the two smallest frequency nodes first, ensuring an optimal solution for minimizing the average code length.\n",
    "\n",
    "<b>Time Complexity</b>:\n",
    "Building the Huffman Tree: O(n log n) (due to heap operations).\n",
    "Generating codes: O(n) (traversing the tree).\n",
    "Overall: O(n log n)."
   ]
  },
  {
   "cell_type": "markdown",
   "id": "1e117795",
   "metadata": {},
   "source": []
  }
 ],
 "metadata": {
  "kernelspec": {
   "display_name": "Python 3",
   "language": "python",
   "name": "python3"
  },
  "language_info": {
   "codemirror_mode": {
    "name": "ipython",
    "version": 3
   },
   "file_extension": ".py",
   "mimetype": "text/x-python",
   "name": "python",
   "nbconvert_exporter": "python",
   "pygments_lexer": "ipython3",
   "version": "3.11.2"
  }
 },
 "nbformat": 4,
 "nbformat_minor": 5
}
