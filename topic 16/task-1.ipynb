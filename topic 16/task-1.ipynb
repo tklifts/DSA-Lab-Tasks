{
 "cells": [
  {
   "cell_type": "code",
   "execution_count": null,
   "id": "b9b3ae42",
   "metadata": {},
   "outputs": [],
   "source": [
    "from collections import deque\n",
    "\n",
    "def dfs_recursive(graph, node, visited=None):\n",
    "    if visited is None:\n",
    "        visited = []\n",
    "    visited.append(node)\n",
    "    for neighbor in graph[node]:\n",
    "        if neighbor not in visited:\n",
    "            dfs_recursive(graph, neighbor, visited)\n",
    "    return visited\n",
    "\n",
    "def dfs_iterative(graph, start):\n",
    "    visited = []\n",
    "    stack = [start]\n",
    "    while stack:\n",
    "        node = stack.pop()\n",
    "        if node not in visited:\n",
    "            visited.append(node)\n",
    "            stack.extend(reversed(graph[node]))\n",
    "    return visited\n",
    "\n",
    "def bfs(graph, start):\n",
    "    visited = []\n",
    "    queue = deque([start])\n",
    "    while queue:\n",
    "        node = queue.popleft()\n",
    "        if node not in visited:\n",
    "            visited.append(node)\n",
    "            queue.extend(graph[node])\n",
    "    return visited\n",
    "\n",
    "if __name__ == \"__main__\":\n",
    "    graph = {\n",
    "        'A': ['B', 'C'],\n",
    "        'B': ['D', 'E'],\n",
    "        'C': ['F'],\n",
    "        'D': [],\n",
    "        'E': ['F'],\n",
    "        'F': []\n",
    "    }\n",
    "\n",
    "    print(\"DFS (Recursive):\", dfs_recursive(graph, 'A'))  \n",
    "    print(\"DFS (Iterative):\", dfs_iterative(graph, 'A'))  \n",
    "    print(\"BFS:\", bfs(graph, 'A'))"
   ]
  },
  {
   "cell_type": "markdown",
   "id": "5c1952c8",
   "metadata": {},
   "source": [
    "Explanation of Time Complexity:\n",
    "\n",
    "DFS and BFS: Both have a time complexity of O(V + E), where V is the number of vertices and E is the number of edges. This is because each vertex and edge is visited once.\n",
    "\n",
    "Comparison of DFS vs BFS:\n",
    "\n",
    "DFS:\n",
    "Explores as far as possible along each branch before backtracking.\n",
    "Use Cases: Pathfinding, topological sorting, solving puzzles (e.g., mazes).\n",
    "\n",
    "BFS:\n",
    "Explores all neighbors at the current depth before moving to the next level.\n",
    "Use Cases: Shortest path in unweighted graphs, level-order traversal."
   ]
  },
  {
   "cell_type": "markdown",
   "id": "bc283674",
   "metadata": {},
   "source": []
  }
 ],
 "metadata": {
  "language_info": {
   "name": "python"
  }
 },
 "nbformat": 4,
 "nbformat_minor": 5
}
