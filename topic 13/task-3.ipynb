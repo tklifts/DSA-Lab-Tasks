{
 "cells": [
  {
   "cell_type": "code",
   "execution_count": 1,
   "id": "2c14d1cc",
   "metadata": {},
   "outputs": [
    {
     "name": "stdout",
     "output_type": "stream",
     "text": [
      "[(2, 3, 1), (3, 4, 2), (1, 3, 3)]\n"
     ]
    }
   ],
   "source": [
    "class DisjointSet:\n",
    "    def __init__(self, vertices):\n",
    "        self.parent = {v: v for v in vertices}\n",
    "        self.rank = {v: 0 for v in vertices}\n",
    "\n",
    "    def find(self, vertex):\n",
    "        if self.parent[vertex] != vertex:\n",
    "            self.parent[vertex] = self.find(self.parent[vertex])\n",
    "        return self.parent[vertex]\n",
    "\n",
    "    def union(self, u, v):\n",
    "        root_u = self.find(u)\n",
    "        root_v = self.find(v)\n",
    "        if root_u != root_v:\n",
    "            if self.rank[root_u] > self.rank[root_v]:\n",
    "                self.parent[root_v] = root_u\n",
    "            elif self.rank[root_u] < self.rank[root_v]:\n",
    "                self.parent[root_u] = root_v\n",
    "            else:\n",
    "                self.parent[root_v] = root_u\n",
    "                self.rank[root_u] += 1\n",
    "\n",
    "def kruskal(edges, num_vertices):\n",
    "    edges.sort(key=lambda x: x[2])\n",
    "    vertices = set()\n",
    "    for u, v, _ in edges:\n",
    "        vertices.add(u)\n",
    "        vertices.add(v)\n",
    "    ds = DisjointSet(vertices)\n",
    "    mst = []\n",
    "    for u, v, weight in edges:\n",
    "        if ds.find(u) != ds.find(v):\n",
    "            mst.append((u, v, weight))\n",
    "            ds.union(u, v)\n",
    "        if len(mst) == num_vertices - 1:\n",
    "            break\n",
    "    return mst\n",
    "\n",
    "if __name__ == \"__main__\":\n",
    "    edges = [(1, 2, 4), (2, 3, 1), (1, 3, 3), (3, 4, 2)]\n",
    "    print(kruskal(edges, 4))"
   ]
  },
  {
   "cell_type": "markdown",
   "id": "e2a3c201",
   "metadata": {},
   "source": [
    "<b>Explanation of Kruskal’s Algorithm</b>:\n",
    "Greedy Approach: Kruskal’s Algorithm sorts all edges by weight and adds the smallest edge to the MST, ensuring no cycles are formed. This greedy choice guarantees the minimum spanning tree.\n",
    "\n",
    "<b>Time Complexity</b>:\n",
    "Sorting edges: O(E log E), where E is the number of edges.\n",
    "Union-Find operations: Nearly O(E) with path compression and union by rank.\n",
    "Overall: O(E log E).\n",
    "\n",
    "<b>Comparison with Prim’s Algorithm</b>:\n",
    "Kruskal’s Algorithm:\n",
    "Works well with sparse graphs.\n",
    "Focuses on edges and uses sorting.\n",
    "Prim’s Algorithm:\n",
    "Works well with dense graphs.\n",
    "Focuses on vertices and uses a priority queue."
   ]
  },
  {
   "cell_type": "markdown",
   "id": "0453b2fb",
   "metadata": {},
   "source": []
  }
 ],
 "metadata": {
  "kernelspec": {
   "display_name": "Python 3",
   "language": "python",
   "name": "python3"
  },
  "language_info": {
   "codemirror_mode": {
    "name": "ipython",
    "version": 3
   },
   "file_extension": ".py",
   "mimetype": "text/x-python",
   "name": "python",
   "nbconvert_exporter": "python",
   "pygments_lexer": "ipython3",
   "version": "3.11.2"
  }
 },
 "nbformat": 4,
 "nbformat_minor": 5
}
