{
 "cells": [
  {
   "cell_type": "code",
   "execution_count": 1,
   "id": "9492d5b4",
   "metadata": {},
   "outputs": [
    {
     "name": "stdout",
     "output_type": "stream",
     "text": [
      "Solution 1:\n",
      ".Q..\n",
      "...Q\n",
      "Q...\n",
      "..Q.\n",
      "\n",
      "Solution 2:\n",
      "..Q.\n",
      "Q...\n",
      "...Q\n",
      ".Q..\n",
      "\n"
     ]
    }
   ],
   "source": [
    "def solve_n_queens(n):\n",
    "    def is_safe(board, row, col):\n",
    "        for i in range(row):\n",
    "            if board[i][col] == \"Q\":\n",
    "                return False\n",
    "        for i, j in zip(range(row, -1, -1), range(col, -1, -1)):\n",
    "            if board[i][j] == \"Q\":\n",
    "                return False\n",
    "        for i, j in zip(range(row, -1, -1), range(col, n)):\n",
    "            if board[i][j] == \"Q\":\n",
    "                return False\n",
    "        return True\n",
    "\n",
    "    def solve(row, board, solutions):\n",
    "        if row == n:\n",
    "            solutions.append([\"\".join(row) for row in board])\n",
    "            return\n",
    "        for col in range(n):\n",
    "            if is_safe(board, row, col):\n",
    "                board[row][col] = \"Q\"\n",
    "                solve(row + 1, board, solutions)\n",
    "                board[row][col] = \".\"\n",
    "\n",
    "    board = [[\".\" for _ in range(n)] for _ in range(n)]\n",
    "    solutions = []\n",
    "    solve(0, board, solutions)\n",
    "    return solutions\n",
    "\n",
    "if __name__ == \"__main__\":\n",
    "    n = 4\n",
    "    solutions = solve_n_queens(n)\n",
    "    for idx, solution in enumerate(solutions, 1):\n",
    "        print(f\"Solution {idx}:\")\n",
    "        for row in solution:\n",
    "            print(row)\n",
    "        print()"
   ]
  },
  {
   "cell_type": "markdown",
   "id": "b04cf6b2",
   "metadata": {},
   "source": [
    "Time Complexity: O(N!), where N is the size of the board. This is because there are N choices for the first row, N-1 for the second, and so on.\n",
    "Space Complexity: O(N^2) for the board and recursion stack."
   ]
  },
  {
   "cell_type": "markdown",
   "id": "2bd7bd5e",
   "metadata": {},
   "source": []
  }
 ],
 "metadata": {
  "kernelspec": {
   "display_name": "Python 3",
   "language": "python",
   "name": "python3"
  },
  "language_info": {
   "codemirror_mode": {
    "name": "ipython",
    "version": 3
   },
   "file_extension": ".py",
   "mimetype": "text/x-python",
   "name": "python",
   "nbconvert_exporter": "python",
   "pygments_lexer": "ipython3",
   "version": "3.11.2"
  }
 },
 "nbformat": 4,
 "nbformat_minor": 5
}
