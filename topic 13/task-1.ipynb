{
 "cells": [
  {
   "cell_type": "code",
   "execution_count": 1,
   "id": "08f8d69f",
   "metadata": {},
   "outputs": [
    {
     "name": "stdout",
     "output_type": "stream",
     "text": [
      "Selected activities: [(1, 3), (6, 8), (8, 11)]\n",
      "Selected activities: [(1, 4), (5, 7), (8, 9)]\n",
      "Selected activities: [(1, 2), (4, 5), (7, 9)]\n"
     ]
    }
   ],
   "source": [
    "def activity_selection(activities):\n",
    "    activities.sort(key=lambda x: x[1])\n",
    "\n",
    "    selected_activities = []\n",
    "    last_end_time = 0\n",
    "\n",
    "    for start, end in activities:\n",
    "        if start >= last_end_time:\n",
    "            selected_activities.append((start, end))\n",
    "            last_end_time = end\n",
    "\n",
    "    return selected_activities\n",
    "\n",
    "if __name__ == \"__main__\":\n",
    "    activities = [(1, 3), (2, 5), (3, 9), (6, 8), (8, 11)]\n",
    "    print(\"Selected activities:\", activity_selection(activities))\n",
    "\n",
    "    activities = [(0, 6), (1, 4), (3, 5), (5, 7), (8, 9), (5, 9)]\n",
    "    print(\"Selected activities:\", activity_selection(activities))\n",
    "\n",
    "    activities = [(7, 9), (0, 10), (4, 5), (8, 9), (1, 2)]\n",
    "    print(\"Selected activities:\", activity_selection(activities))\n",
    "    # Expected Output: [(1, 2), (4, 5), (7, 9)]"
   ]
  },
  {
   "cell_type": "markdown",
   "id": "e07ccc79",
   "metadata": {},
   "source": [
    "Explanation of Time Complexity:\n",
    "Sorting: Sorting the activities by their finish times takes O(n log n).\n",
    "Selection: Iterating through the activities to select non-overlapping ones takes O(n).\n",
    "Overall Complexity: The total time complexity is O(n log n) due to the sorting step.\n",
    "\n",
    "Real-World Applications:\n",
    "Scheduling: Allocating meeting rooms for non-overlapping meetings.\n",
    "Task Management: Selecting tasks that can be completed without conflicts.\n",
    "Resource Allocation: Maximizing the use of limited resources in project management.\n"
   ]
  },
  {
   "cell_type": "markdown",
   "id": "56350759",
   "metadata": {},
   "source": []
  }
 ],
 "metadata": {
  "kernelspec": {
   "display_name": "Python 3",
   "language": "python",
   "name": "python3"
  },
  "language_info": {
   "codemirror_mode": {
    "name": "ipython",
    "version": 3
   },
   "file_extension": ".py",
   "mimetype": "text/x-python",
   "name": "python",
   "nbconvert_exporter": "python",
   "pygments_lexer": "ipython3",
   "version": "3.11.2"
  }
 },
 "nbformat": 4,
 "nbformat_minor": 5
}
