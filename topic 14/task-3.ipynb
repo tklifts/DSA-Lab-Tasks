{
 "cells": [
  {
   "cell_type": "code",
   "execution_count": null,
   "id": "99979773",
   "metadata": {},
   "outputs": [],
   "source": [
    "def knapsack(weights, values, capacity):\n",
    "    n = len(weights)\n",
    "    dp = [[0 for _ in range(capacity + 1)] for _ in range(n + 1)]\n",
    "\n",
    "    for i in range(1, n + 1):\n",
    "        for w in range(1, capacity + 1):\n",
    "            if weights[i - 1] <= w:\n",
    "                dp[i][w] = max(dp[i - 1][w], values[i - 1] + dp[i - 1][w - weights[i - 1]])\n",
    "            else:\n",
    "                dp[i][w] = dp[i - 1][w]\n",
    "\n",
    "    return dp[n][capacity]\n",
    "\n",
    "if __name__ == \"__main__\":\n",
    "    weights = [2, 3, 4, 5]\n",
    "    values = [3, 4, 5, 6]\n",
    "    capacity = 5\n",
    "    print(knapsack(weights, values, capacity))  "
   ]
  },
  {
   "cell_type": "markdown",
   "id": "ada5d1e7",
   "metadata": {},
   "source": [
    "<b>Explanation of Time Complexity</b>:\n",
    "\n",
    "Time Complexity: O(n * W), where n is the number of items and W is the capacity of the knapsack. This is because we iterate through all items and capacities to fill the DP table.\n",
    "Space Complexity: O(n * W) due to the 2D DP table used to store intermediate results.\n",
    "\n",
    "<b>Real-World Applications</b>:\n",
    "\n",
    "Budget Optimization: Allocating resources to maximize profit within a budget.\n",
    "Resource Allocation: Selecting tasks or projects to maximize value under constraints.\n",
    "Cargo Loading: Determining the optimal selection of items to load onto a vehicle without exceeding weight limits."
   ]
  },
  {
   "cell_type": "markdown",
   "id": "87a46545",
   "metadata": {},
   "source": []
  }
 ],
 "metadata": {
  "language_info": {
   "name": "python"
  }
 },
 "nbformat": 4,
 "nbformat_minor": 5
}
