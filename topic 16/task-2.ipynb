{
 "cells": [
  {
   "cell_type": "code",
   "execution_count": 1,
   "id": "f898d6cf",
   "metadata": {},
   "outputs": [
    {
     "name": "stdout",
     "output_type": "stream",
     "text": [
      "{'A': 0, 'B': 1, 'C': 3, 'D': 4}\n"
     ]
    }
   ],
   "source": [
    "import heapq\n",
    "\n",
    "def dijkstra(graph, start):\n",
    "    distances = {node: float('inf') for node in graph}\n",
    "    distances[start] = 0\n",
    "    priority_queue = [(0, start)]\n",
    "\n",
    "    while priority_queue:\n",
    "        current_distance, current_node = heapq.heappop(priority_queue)\n",
    "\n",
    "        if current_distance > distances[current_node]:\n",
    "            continue\n",
    "\n",
    "        for neighbor, weight in graph[current_node].items():\n",
    "            distance = current_distance + weight\n",
    "\n",
    "            if distance < distances[neighbor]:\n",
    "                distances[neighbor] = distance\n",
    "                heapq.heappush(priority_queue, (distance, neighbor))\n",
    "\n",
    "    return distances\n",
    "\n",
    "if __name__ == \"__main__\":\n",
    "    graph = {\n",
    "        'A': {'B': 1, 'C': 4},\n",
    "        'B': {'A': 1, 'C': 2, 'D': 5},\n",
    "        'C': {'A': 4, 'B': 2, 'D': 1},\n",
    "        'D': {'B': 5, 'C': 1}\n",
    "    }\n",
    "\n",
    "    print(dijkstra(graph, 'A')) "
   ]
  },
  {
   "cell_type": "markdown",
   "id": "b823986e",
   "metadata": {},
   "source": [
    "Explanation of Why a Priority Queue is Used:\n",
    "A priority queue (min-heap) ensures that the node with the smallest tentative distance is processed first.\n",
    "This reduces unnecessary computations and ensures the algorithm runs efficiently.\n",
    "\n",
    "Time Complexity:\n",
    "O((V + E) log V):\n",
    "V: Number of vertices.\n",
    "E: Number of edges.\n",
    "The log V factor comes from heap operations.\n",
    "\n",
    "Real-World Applications:\n",
    "Google Maps: Finding the shortest route between two locations.\n",
    "Network Routing: Optimizing data packet delivery in networks.\n",
    "Game Development: Pathfinding for characters or objects."
   ]
  },
  {
   "cell_type": "markdown",
   "id": "1878500a",
   "metadata": {},
   "source": []
  }
 ],
 "metadata": {
  "kernelspec": {
   "display_name": "Python 3",
   "language": "python",
   "name": "python3"
  },
  "language_info": {
   "codemirror_mode": {
    "name": "ipython",
    "version": 3
   },
   "file_extension": ".py",
   "mimetype": "text/x-python",
   "name": "python",
   "nbconvert_exporter": "python",
   "pygments_lexer": "ipython3",
   "version": "3.11.2"
  }
 },
 "nbformat": 4,
 "nbformat_minor": 5
}
