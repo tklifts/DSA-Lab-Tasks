{
 "cells": [
  {
   "cell_type": "code",
   "execution_count": 1,
   "id": "0e778e77",
   "metadata": {},
   "outputs": [
    {
     "name": "stdout",
     "output_type": "stream",
     "text": [
      "LCS (Memoization): GTAB\n",
      "LCS (Tabulation): GTAB\n"
     ]
    }
   ],
   "source": [
    "def lcs_memoization(X, Y, m, n, memo):\n",
    "    if m == 0 or n == 0:\n",
    "        return \"\"\n",
    "    if (m, n) in memo:\n",
    "        return memo[(m, n)]\n",
    "    if X[m - 1] == Y[n - 1]:\n",
    "        memo[(m, n)] = lcs_memoization(X, Y, m - 1, n - 1, memo) + X[m - 1]\n",
    "    else:\n",
    "        left = lcs_memoization(X, Y, m, n - 1, memo)\n",
    "        right = lcs_memoization(X, Y, m - 1, n, memo)\n",
    "        memo[(m, n)] = left if len(left) > len(right) else right\n",
    "    return memo[(m, n)]\n",
    "\n",
    "def lcs_tabulation(X, Y):\n",
    "    m, n = len(X), len(Y)\n",
    "    dp = [[\"\" for _ in range(n + 1)] for _ in range(m + 1)]\n",
    "    for i in range(1, m + 1):\n",
    "        for j in range(1, n + 1):\n",
    "            if X[i - 1] == Y[j - 1]:\n",
    "                dp[i][j] = dp[i - 1][j - 1] + X[i - 1]\n",
    "            else:\n",
    "                dp[i][j] = dp[i - 1][j] if len(dp[i - 1][j]) > len(dp[i][j - 1]) else dp[i][j - 1]\n",
    "    return dp[m][n]\n",
    "\n",
    "if __name__ == \"__main__\":\n",
    "    X = \"AGGTAB\"\n",
    "    Y = \"GXTXAYB\"\n",
    "    print(\"LCS (Memoization):\", lcs_memoization(X, Y, len(X), len(Y), {})) \n",
    "    print(\"LCS (Tabulation):\", lcs_tabulation(X, Y)) "
   ]
  },
  {
   "cell_type": "markdown",
   "id": "6becf5b7",
   "metadata": {},
   "source": [
    "Recursive + Memoization:\n",
    "\n",
    "Time Complexity: O(m * n), where m and n are the lengths of the two strings.\n",
    "Space Complexity: O(m * n) for the memoization dictionary and recursion stack.\n",
    "\n",
    "Tabulation:\n",
    "\n",
    "Time Complexity: O(m * n) due to the 2D DP table.\n",
    "Space Complexity: O(m * n) for the 2D DP table."
   ]
  },
  {
   "cell_type": "markdown",
   "id": "11b5009f",
   "metadata": {},
   "source": []
  }
 ],
 "metadata": {
  "kernelspec": {
   "display_name": "Python 3",
   "language": "python",
   "name": "python3"
  },
  "language_info": {
   "codemirror_mode": {
    "name": "ipython",
    "version": 3
   },
   "file_extension": ".py",
   "mimetype": "text/x-python",
   "name": "python",
   "nbconvert_exporter": "python",
   "pygments_lexer": "ipython3",
   "version": "3.11.2"
  }
 },
 "nbformat": 4,
 "nbformat_minor": 5
}
