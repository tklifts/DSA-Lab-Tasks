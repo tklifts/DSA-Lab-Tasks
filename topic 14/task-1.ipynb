{
 "cells": [
  {
   "cell_type": "code",
   "execution_count": 1,
   "id": "d196155e",
   "metadata": {},
   "outputs": [
    {
     "name": "stdout",
     "output_type": "stream",
     "text": [
      "55\n",
      "55\n"
     ]
    }
   ],
   "source": [
    "def fib_memoization(n, memo={}):\n",
    "    if n in memo:\n",
    "        return memo[n]\n",
    "    if n <= 1:\n",
    "        return n\n",
    "    memo[n] = fib_memoization(n - 1, memo) + fib_memoization(n - 2, memo)\n",
    "    return memo[n]\n",
    "\n",
    "def fib_tabulation(n):\n",
    "    if n <= 1:\n",
    "        return n\n",
    "    dp = [0] * (n + 1)\n",
    "    dp[1] = 1\n",
    "    for i in range(2, n + 1):\n",
    "        dp[i] = dp[i - 1] + dp[i - 2]\n",
    "    return dp[n]\n",
    "\n",
    "if __name__ == \"__main__\":\n",
    "    print(fib_memoization(10))\n",
    "    print(fib_tabulation(10))"
   ]
  },
  {
   "cell_type": "markdown",
   "id": "5212940d",
   "metadata": {},
   "source": [
    "<b>Memoization (Top-Down)</b>::\n",
    "\n",
    "Time Complexity: O(n) because each Fibonacci number is computed only once and stored in the dictionary.\n",
    "Space Complexity: O(n) due to the recursion stack and memoization dictionary.\n",
    "\n",
    "<b>Tabulation (Bottom-Up)</b>:\n",
    "\n",
    "Time Complexity: O(n) because we iterate through the array once.\n",
    "Space Complexity: O(n) due to the array used for storing intermediate results.\n"
   ]
  },
  {
   "cell_type": "markdown",
   "id": "1953689d",
   "metadata": {},
   "source": []
  }
 ],
 "metadata": {
  "kernelspec": {
   "display_name": "Python 3",
   "language": "python",
   "name": "python3"
  },
  "language_info": {
   "codemirror_mode": {
    "name": "ipython",
    "version": 3
   },
   "file_extension": ".py",
   "mimetype": "text/x-python",
   "name": "python",
   "nbconvert_exporter": "python",
   "pygments_lexer": "ipython3",
   "version": "3.11.2"
  }
 },
 "nbformat": 4,
 "nbformat_minor": 5
}
