{
 "cells": [
  {
   "cell_type": "code",
   "execution_count": null,
   "id": "cb5b372b",
   "metadata": {},
   "outputs": [],
   "source": [
    "def solve_sudoku(board):\n",
    "    def is_valid(board, row, col, num):\n",
    "        for i in range(9):\n",
    "            if board[row][i] == num or board[i][col] == num:\n",
    "                return False\n",
    "            if board[3 * (row // 3) + i // 3][3 * (col // 3) + i % 3] == num:\n",
    "                return False\n",
    "        return True\n",
    "\n",
    "    def solve():\n",
    "        for row in range(9):\n",
    "            for col in range(9):\n",
    "                if board[row][col] == 0:\n",
    "                    for num in range(1, 10):\n",
    "                        if is_valid(board, row, col, num):\n",
    "                            board[row][col] = num\n",
    "                            if solve():\n",
    "                                return True\n",
    "                            board[row][col] = 0\n",
    "                    return False\n",
    "        return True\n",
    "\n",
    "    solve()\n",
    "    return board\n",
    "\n",
    "if __name__ == \"__main__\":\n",
    "    sudoku_board = [\n",
    "        [5, 3, 0, 0, 7, 0, 0, 0, 0],\n",
    "        [6, 0, 0, 1, 9, 5, 0, 0, 0],\n",
    "        [0, 9, 8, 0, 0, 0, 0, 6, 0],\n",
    "        [8, 0, 0, 0, 6, 0, 0, 0, 3],\n",
    "        [4, 0, 0, 8, 0, 3, 0, 0, 1],\n",
    "        [7, 0, 0, 0, 2, 0, 0, 0, 6],\n",
    "        [0, 6, 0, 0, 0, 0, 2, 8, 0],\n",
    "        [0, 0, 0, 4, 1, 9, 0, 0, 5],\n",
    "        [0, 0, 0, 0, 8, 0, 0, 7, 9],\n",
    "    ]\n",
    "\n",
    "    solved_board = solve_sudoku(sudoku_board)\n",
    "    print(\"Solved Sudoku Board:\")\n",
    "    for row in solved_board:\n",
    "        print(row)"
   ]
  },
  {
   "cell_type": "markdown",
   "id": "057b462a",
   "metadata": {},
   "source": [
    "Time Complexity: O(9^n), where n is the number of empty cells. Each empty cell has 9 possible values to try.\n",
    "\n",
    "Space Complexity: O(1) (excluding the recursion stack), as the board is modified in place.\n",
    "\n",
    "Comparison with Constraint Satisfaction:\n",
    "\n",
    "Backtracking: Tries all possibilities recursively, ensuring constraints are met at each step.\n",
    "\n",
    "Constraint Satisfaction: Uses techniques like forward checking and arc consistency to prune the search space early, reducing unnecessary computations."
   ]
  },
  {
   "cell_type": "markdown",
   "id": "dcdebec2",
   "metadata": {},
   "source": []
  }
 ],
 "metadata": {
  "language_info": {
   "name": "python"
  }
 },
 "nbformat": 4,
 "nbformat_minor": 5
}
